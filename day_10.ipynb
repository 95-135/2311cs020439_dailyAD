{
  "nbformat": 4,
  "nbformat_minor": 0,
  "metadata": {
    "colab": {
      "provenance": []
    },
    "kernelspec": {
      "name": "python3",
      "display_name": "Python 3"
    },
    "language_info": {
      "name": "python"
    }
  },
  "cells": [
    {
      "cell_type": "code",
      "execution_count": 1,
      "metadata": {
        "id": "JnOzOqNwICOs"
      },
      "outputs": [],
      "source": [
        "import pandas as pd\n",
        "import numpy as np\n",
        "\n"
      ]
    },
    {
      "cell_type": "code",
      "source": [
        "\n",
        "arr = np.array([24, 53, 48, 47, 52, 39, 55, 35, 48, 31, 42, 30, 39, 45, 32])\n",
        "print(arr)\n"
      ],
      "metadata": {
        "colab": {
          "base_uri": "https://localhost:8080/"
        },
        "id": "CTBEeVJmITDF",
        "outputId": "52b1b7c0-afab-4835-e37c-3de5837f8272"
      },
      "execution_count": 5,
      "outputs": [
        {
          "output_type": "stream",
          "name": "stdout",
          "text": [
            "[24 53 48 47 52 39 55 35 48 31 42 30 39 45 32]\n"
          ]
        }
      ]
    },
    {
      "cell_type": "code",
      "source": [
        "arr[-5:-12:-1]"
      ],
      "metadata": {
        "colab": {
          "base_uri": "https://localhost:8080/"
        },
        "id": "A4EEmJNLIkOy",
        "outputId": "74f86d32-5f5a-4442-c4c9-4cb5ceb74b69"
      },
      "execution_count": 6,
      "outputs": [
        {
          "output_type": "execute_result",
          "data": {
            "text/plain": [
              "array([42, 31, 48, 35, 55, 39, 52])"
            ]
          },
          "metadata": {},
          "execution_count": 6
        }
      ]
    },
    {
      "cell_type": "code",
      "source": [
        "b= np.random.randint(45, size=(5,5))\n",
        "print(b)"
      ],
      "metadata": {
        "colab": {
          "base_uri": "https://localhost:8080/"
        },
        "id": "pgfwvSNMJUXB",
        "outputId": "d215d8f8-ac2d-40f0-f5a1-f967f4dce073"
      },
      "execution_count": 7,
      "outputs": [
        {
          "output_type": "stream",
          "name": "stdout",
          "text": [
            "[[ 0 30  1 43  9]\n",
            " [16 28  1 27  2]\n",
            " [ 0 39 39  2 41]\n",
            " [ 4 18 44 31  5]\n",
            " [25 27 29  9 24]]\n"
          ]
        }
      ]
    },
    {
      "cell_type": "code",
      "source": [
        "b[-1]"
      ],
      "metadata": {
        "colab": {
          "base_uri": "https://localhost:8080/"
        },
        "id": "Prd6fF3YKbqq",
        "outputId": "8909a88e-f9d9-4652-eb07-882001a1929c"
      },
      "execution_count": 8,
      "outputs": [
        {
          "output_type": "execute_result",
          "data": {
            "text/plain": [
              "array([25, 27, 29,  9, 24])"
            ]
          },
          "metadata": {},
          "execution_count": 8
        }
      ]
    },
    {
      "cell_type": "code",
      "source": [
        "b[:,4]"
      ],
      "metadata": {
        "colab": {
          "base_uri": "https://localhost:8080/"
        },
        "id": "iwTkIlxIKhyG",
        "outputId": "69eee811-cc80-4a9a-dc37-25a6a5aa37e0"
      },
      "execution_count": 9,
      "outputs": [
        {
          "output_type": "execute_result",
          "data": {
            "text/plain": [
              "array([ 9,  2, 41,  5, 24])"
            ]
          },
          "metadata": {},
          "execution_count": 9
        }
      ]
    },
    {
      "cell_type": "code",
      "source": [
        "b[2,3]"
      ],
      "metadata": {
        "colab": {
          "base_uri": "https://localhost:8080/"
        },
        "id": "8jN1iLBSKmV6",
        "outputId": "e4aed079-3fbe-4b04-9238-b15e242882c2"
      },
      "execution_count": 10,
      "outputs": [
        {
          "output_type": "execute_result",
          "data": {
            "text/plain": [
              "2"
            ]
          },
          "metadata": {},
          "execution_count": 10
        }
      ]
    },
    {
      "cell_type": "code",
      "source": [
        "np.random.seed(94)\n",
        "b=np.random.randint(45,78,(7,8))\n",
        "b"
      ],
      "metadata": {
        "colab": {
          "base_uri": "https://localhost:8080/"
        },
        "id": "iIRugFocK3uE",
        "outputId": "4fb56047-b47f-480d-d811-01635b658c7a"
      },
      "execution_count": 11,
      "outputs": [
        {
          "output_type": "execute_result",
          "data": {
            "text/plain": [
              "array([[63, 45, 48, 67, 74, 64, 61, 53],\n",
              "       [61, 59, 55, 77, 69, 69, 48, 60],\n",
              "       [71, 56, 51, 58, 59, 47, 68, 77],\n",
              "       [46, 45, 52, 74, 65, 53, 60, 55],\n",
              "       [64, 72, 46, 69, 65, 75, 75, 51],\n",
              "       [75, 67, 53, 77, 60, 67, 67, 47],\n",
              "       [75, 54, 74, 69, 54, 64, 52, 61]])"
            ]
          },
          "metadata": {},
          "execution_count": 11
        }
      ]
    },
    {
      "cell_type": "code",
      "source": [
        "b[2] #2nd row"
      ],
      "metadata": {
        "colab": {
          "base_uri": "https://localhost:8080/"
        },
        "id": "BR_CEs8eLY6F",
        "outputId": "ac9cdd45-6c19-4be8-ad0f-e40ce43b2e04"
      },
      "execution_count": 15,
      "outputs": [
        {
          "output_type": "execute_result",
          "data": {
            "text/plain": [
              "array([71, 56, 51, 58, 59, 47, 68, 77])"
            ]
          },
          "metadata": {},
          "execution_count": 15
        }
      ]
    },
    {
      "cell_type": "code",
      "source": [
        "b[:,7] #7th column"
      ],
      "metadata": {
        "colab": {
          "base_uri": "https://localhost:8080/"
        },
        "id": "uIUxNQS9LcXR",
        "outputId": "84f96fd3-f21b-41df-9573-8d04cce95b78"
      },
      "execution_count": 14,
      "outputs": [
        {
          "output_type": "execute_result",
          "data": {
            "text/plain": [
              "array([53, 60, 77, 55, 51, 47, 61])"
            ]
          },
          "metadata": {},
          "execution_count": 14
        }
      ]
    },
    {
      "cell_type": "code",
      "source": [
        "b[3,1]#3rd row,1st column"
      ],
      "metadata": {
        "colab": {
          "base_uri": "https://localhost:8080/"
        },
        "id": "a9xbquJ6Ljcc",
        "outputId": "438de89a-d30c-40b5-d7b7-8f9bd07bf807"
      },
      "execution_count": 17,
      "outputs": [
        {
          "output_type": "execute_result",
          "data": {
            "text/plain": [
              "45"
            ]
          },
          "metadata": {},
          "execution_count": 17
        }
      ]
    },
    {
      "cell_type": "code",
      "source": [
        "b[2,1:6]"
      ],
      "metadata": {
        "colab": {
          "base_uri": "https://localhost:8080/"
        },
        "id": "Pi0b6R3XL5tj",
        "outputId": "5eca000a-bbb9-44eb-8418-b61144a5448c"
      },
      "execution_count": 19,
      "outputs": [
        {
          "output_type": "execute_result",
          "data": {
            "text/plain": [
              "array([56, 51, 58, 59, 47])"
            ]
          },
          "metadata": {},
          "execution_count": 19
        }
      ]
    },
    {
      "cell_type": "code",
      "source": [
        "b[1:6:2]"
      ],
      "metadata": {
        "colab": {
          "base_uri": "https://localhost:8080/"
        },
        "id": "JhTmQE7tOycZ",
        "outputId": "af3e405f-e9bc-4908-c650-01a76d48ad15"
      },
      "execution_count": 23,
      "outputs": [
        {
          "output_type": "execute_result",
          "data": {
            "text/plain": [
              "array([[61, 59, 55, 77, 69, 69, 48, 60],\n",
              "       [46, 45, 52, 74, 65, 53, 60, 55],\n",
              "       [75, 67, 53, 77, 60, 67, 67, 47]])"
            ]
          },
          "metadata": {},
          "execution_count": 23
        }
      ]
    },
    {
      "cell_type": "code",
      "source": [
        "b[1:6:2,1:6]"
      ],
      "metadata": {
        "colab": {
          "base_uri": "https://localhost:8080/"
        },
        "id": "_QL8VF14Pie5",
        "outputId": "94437e5e-19df-4a3f-cf70-935d4f8a4b6c"
      },
      "execution_count": 24,
      "outputs": [
        {
          "output_type": "execute_result",
          "data": {
            "text/plain": [
              "array([[59, 55, 77, 69, 69],\n",
              "       [45, 52, 74, 65, 53],\n",
              "       [67, 53, 77, 60, 67]])"
            ]
          },
          "metadata": {},
          "execution_count": 24
        }
      ]
    },
    {
      "cell_type": "code",
      "source": [
        "b[3:6,2:6]"
      ],
      "metadata": {
        "colab": {
          "base_uri": "https://localhost:8080/"
        },
        "id": "qoIBLYKJQRmY",
        "outputId": "6068e069-d814-415b-a853-a9e6eb79c632"
      },
      "execution_count": 25,
      "outputs": [
        {
          "output_type": "execute_result",
          "data": {
            "text/plain": [
              "array([[52, 74, 65, 53],\n",
              "       [46, 69, 65, 75],\n",
              "       [53, 77, 60, 67]])"
            ]
          },
          "metadata": {},
          "execution_count": 25
        }
      ]
    },
    {
      "cell_type": "code",
      "source": [
        "b[1:6:2,1:8:3]"
      ],
      "metadata": {
        "colab": {
          "base_uri": "https://localhost:8080/"
        },
        "id": "VAWKVw6cRrCt",
        "outputId": "3f4ce0b2-d2f6-40eb-a599-1cdc4e634820"
      },
      "execution_count": 26,
      "outputs": [
        {
          "output_type": "execute_result",
          "data": {
            "text/plain": [
              "array([[59, 69, 60],\n",
              "       [45, 65, 55],\n",
              "       [67, 60, 47]])"
            ]
          },
          "metadata": {},
          "execution_count": 26
        }
      ]
    },
    {
      "cell_type": "code",
      "source": [],
      "metadata": {
        "id": "CEQd7P-WSmnR"
      },
      "execution_count": null,
      "outputs": []
    }
  ]
}